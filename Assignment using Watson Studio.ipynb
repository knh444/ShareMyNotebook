{
    "cells": [
        {
            "cell_type": "markdown",
            "metadata": {
                "collapsed": true
            },
            "source": "# Assignment using Watson Studio"
        },
        {
            "cell_type": "markdown",
            "metadata": {},
            "source": "__Nam Hyuk KIM__  \nChartered Financial Analyst"
        },
        {
            "cell_type": "markdown",
            "metadata": {},
            "source": "_I am interested in data science because I wish to launch a fintech firm in 10 years._"
        },
        {
            "cell_type": "markdown",
            "metadata": {},
            "source": "### 10 + 1"
        },
        {
            "cell_type": "code",
            "execution_count": 4,
            "metadata": {},
            "outputs": [
                {
                    "data": {
                        "text/plain": "11"
                    },
                    "execution_count": 4,
                    "metadata": {},
                    "output_type": "execute_result"
                }
            ],
            "source": "10 + 1"
        },
        {
            "cell_type": "markdown",
            "metadata": {},
            "source": "(bulleted list)  \n- Anna  \n- Betty\n- Cathy\n\n(Numbered list)\n1. Arthur\n2. Brad\n3. Cass\n\n(Hyperlink)  \n[Google is here!](www.google.com)"
        },
        {
            "cell_type": "code",
            "execution_count": null,
            "metadata": {},
            "outputs": [],
            "source": ""
        }
    ],
    "metadata": {
        "kernelspec": {
            "display_name": "Python 3.10",
            "language": "python",
            "name": "python3"
        },
        "language_info": {
            "codemirror_mode": {
                "name": "ipython",
                "version": 3
            },
            "file_extension": ".py",
            "mimetype": "text/x-python",
            "name": "python",
            "nbconvert_exporter": "python",
            "pygments_lexer": "ipython3",
            "version": "3.10.13"
        }
    },
    "nbformat": 4,
    "nbformat_minor": 1
}