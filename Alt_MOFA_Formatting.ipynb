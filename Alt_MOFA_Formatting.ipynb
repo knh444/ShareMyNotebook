{
    "cells": [
        {
            "cell_type": "code",
            "execution_count": 1,
            "metadata": {},
            "outputs": [
                {
                    "name": "stdout",
                    "output_type": "stream",
                    "text": "Requirement already satisfied: pandas in /opt/conda/envs/Python-RT23.1/lib/python3.10/site-packages (1.5.3)\nRequirement already satisfied: python-dateutil>=2.8.1 in /opt/conda/envs/Python-RT23.1/lib/python3.10/site-packages (from pandas) (2.8.2)\nRequirement already satisfied: pytz>=2020.1 in /opt/conda/envs/Python-RT23.1/lib/python3.10/site-packages (from pandas) (2022.7)\nRequirement already satisfied: numpy>=1.21.0 in /opt/conda/envs/Python-RT23.1/lib/python3.10/site-packages (from pandas) (1.23.5)\nRequirement already satisfied: six>=1.5 in /opt/conda/envs/Python-RT23.1/lib/python3.10/site-packages (from python-dateutil>=2.8.1->pandas) (1.16.0)\nNote: you may need to restart the kernel to use updated packages.\n"
                }
            ],
            "source": "pip install pandas"
        },
        {
            "cell_type": "code",
            "execution_count": null,
            "metadata": {},
            "outputs": [],
            "source": "import pandas as pd\nimport re\nimport csv\n\n# Replace 'your_input_file.xlsx' with the actual path to your Excel file\nexcel_file_path = r'ktest.xlsx'\n\n# Read the Excel file into a DataFrame\ndf = pd.read_excel(excel_file_path, header=None)\n\n# Define a function to transform the content\ndef transform_format(row):\n    return f\"{row[0]} {row[1]} [{row[2]} ({row[3]})]\"\n\n# Apply the transformation function to each row\ndf['transformed'] = df.apply(transform_format, axis=1)\n\n# Replace 'your_output_file.txt' with the desired output text file path\noutput_file_path = r'ktest_output_file.txt'\n\n# Write the transformed content to a text file\ndf['transformed'].to_csv(output_file_path, index=False, header=False, quoting=csv.QUOTE_NONE, escapechar='\\\\')\n\ndef remove_time_strings(file_path):\n    # Read the contents of the file\n    with open(file_path, 'r', encoding='utf-8') as file:\n        file_contents = file.read()\n\n    # Define the regex pattern for matching time strings (hh:mm:ss)\n    time_pattern = re.compile(r'\\b\\d{2}:\\d{2}\\b')\n\n    # Replace time strings with an empty string\n    modified_contents = re.sub(time_pattern, '', file_contents)\n\n    # Write the modified contents back to the file\n    with open(file_path, 'w', encoding='utf-8') as file:\n        file.write(modified_contents)\n\n# Use the correct file path for input_file_path\nremove_time_strings(output_file_path)\n\ndef change_date_format(file_path):\n    # Read the contents of the file\n    with open(file_path, 'r', encoding='utf-8') as file:\n        file_contents = file.read()\n\n    # Define the regex pattern for matching date strings (yyyy-mm-dd)\n    date_pattern = re.compile(r'\\b(\\d{4})-(\\d{2})-(\\d{2})\\b')\n\n    # Replace date strings with the desired format (yyyy.mm.dd)\n    modified_contents1 = re.sub(date_pattern, r'\\1.\\2.\\3', file_contents)\n\n    # Replace the substring \" )\" with \")\"\n    modified_contents2 = modified_contents1.replace(\" )\", \")\")\n\n    # Write the modified contents back to the file\n    with open(file_path, 'w', encoding='utf-8') as file:\n        file.write(modified_contents2)\n\n# Replace 'your_file.txt' with the path to your actual text file\nchange_date_format(output_file_path)\n\nprint(f\"Transformation completed. Output saved to {output_file_path}\")"
        }
    ],
    "metadata": {
        "kernelspec": {
            "display_name": "Python 3.10",
            "language": "python",
            "name": "python3"
        },
        "language_info": {
            "codemirror_mode": {
                "name": "ipython",
                "version": 3
            },
            "file_extension": ".py",
            "mimetype": "text/x-python",
            "name": "python",
            "nbconvert_exporter": "python",
            "pygments_lexer": "ipython3",
            "version": "3.10.13"
        }
    },
    "nbformat": 4,
    "nbformat_minor": 1
}